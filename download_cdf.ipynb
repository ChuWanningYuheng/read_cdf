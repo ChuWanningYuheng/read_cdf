{
 "cells": [
  {
   "cell_type": "code",
   "execution_count": 31,
   "id": "928c2363",
   "metadata": {},
   "outputs": [],
   "source": [
    "import urllib.request\n",
    "from bs4 import BeautifulSoup\n",
    "import os\n",
    "from datetime import datetime"
   ]
  },
  {
   "cell_type": "code",
   "execution_count": null,
   "id": "c7f7847c",
   "metadata": {},
   "outputs": [],
   "source": [
    "#download html file with cdf names\n",
    "stantion = 'ouj'\n",
    "url = 'https://ergsc.isee.nagoya-u.ac.jp/data/ergsc/ground/vlf/ouj/2022/11/' \n",
    "fp = urllib.request.urlopen(url)\n",
    "mybytes = fp.read()\n",
    "mystr = mybytes.decode(\"utf8\")\n",
    "fp.close()\n",
    "#parse this file\n",
    "soup = BeautifulSoup(mystr, 'html.parser')\n",
    "name_arr = []\n",
    "for link in soup.find_all('a'):\n",
    "    name_arr.append(link.get('href'))\n",
    "name_arr.pop(0) #remove 1st el cause it is path to current folder on site with cdfs\n",
    "\n",
    "#download cdfs\n",
    "\n",
    "current_path = os.getcwd()\n",
    "dir_path = os.path.join(current_path, \"files\", stantion) \n",
    "\n",
    "try:\n",
    "    os.mkdir(dir_path)\n",
    "except FileExistsError:\n",
    "    pass\n",
    "    \n",
    "for name in name_arr:\n",
    "    url_name = url + name\n",
    "    try:\n",
    "        urllib.request.urlretrieve(url_name, os.path.join(dir_path, name))\n",
    "    except ConnectionAbortedError:\n",
    "        print(f'Выполнение программы было остановлено из-за проблем с подключаением. Последний считанный файл: {name}, его индекс в массиве: {name_arr.index(name)}, время разрыва подключения: {datetime.now()}')\n",
    "    \n"
   ]
  },
  {
   "cell_type": "code",
   "execution_count": 30,
   "id": "76585b88",
   "metadata": {},
   "outputs": [],
   "source": [
    "for name in name_arr[592:-1]:\n",
    "    url_name = url + name\n",
    "    urllib.request.urlretrieve(url_name, os.path.join(dir_path, name))"
   ]
  },
  {
   "cell_type": "code",
   "execution_count": 18,
   "id": "acedbd06",
   "metadata": {},
   "outputs": [],
   "source": [
    "f = open( 'C:\\\\Users\\\\Aleksandra Fedorova\\\\Documents\\\\summer_work\\\\code\\\\files\\\\mos2\\\\dir.txt', 'w' )\n",
    "for element in name_arr:\n",
    "    f.write(element)\n",
    "    f.write('\\n')\n",
    "f.close()"
   ]
  },
  {
   "cell_type": "code",
   "execution_count": 29,
   "id": "801d831d",
   "metadata": {},
   "outputs": [
    {
     "name": "stdout",
     "output_type": "stream",
     "text": [
      "592\n"
     ]
    }
   ],
   "source": [
    "print(name_arr.index(name))"
   ]
  },
  {
   "cell_type": "code",
   "execution_count": 14,
   "id": "97fa8141",
   "metadata": {},
   "outputs": [
    {
     "name": "stdout",
     "output_type": "stream",
     "text": [
      "\n",
      "\n"
     ]
    }
   ],
   "source": [
    "print(\"\\n\".join(name_arr).join(\"\\n\"))"
   ]
  },
  {
   "cell_type": "code",
   "execution_count": null,
   "id": "faf46349",
   "metadata": {},
   "outputs": [],
   "source": []
  }
 ],
 "metadata": {
  "kernelspec": {
   "display_name": "Python 3 (ipykernel)",
   "language": "python",
   "name": "python3"
  },
  "language_info": {
   "codemirror_mode": {
    "name": "ipython",
    "version": 3
   },
   "file_extension": ".py",
   "mimetype": "text/x-python",
   "name": "python",
   "nbconvert_exporter": "python",
   "pygments_lexer": "ipython3",
   "version": "3.9.7"
  }
 },
 "nbformat": 4,
 "nbformat_minor": 5
}
