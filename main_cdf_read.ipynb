{
 "cells": [
  {
   "cell_type": "markdown",
   "id": "017ea2cc",
   "metadata": {},
   "source": [
    "pip install --upgrade spacepy"
   ]
  },
  {
   "cell_type": "markdown",
   "id": "da0fcbca",
   "metadata": {},
   "source": [
    "pip install git+https://github.com/spacepy/spacepy\n"
   ]
  },
  {
   "cell_type": "markdown",
   "id": "a2715b49",
   "metadata": {},
   "source": [
    "pip install cdflib\n"
   ]
  },
  {
   "cell_type": "markdown",
   "id": "1cdf4fe4",
   "metadata": {},
   "source": [
    "pip install import-ipynb\n"
   ]
  },
  {
   "cell_type": "markdown",
   "id": "3e569a9f",
   "metadata": {},
   "source": [
    "pip install ipynb"
   ]
  },
  {
   "cell_type": "markdown",
   "id": "40c7d2ef",
   "metadata": {},
   "source": [
    "os.getcwd()+\"\\\\Module\""
   ]
  },
  {
   "cell_type": "code",
   "execution_count": 1,
   "id": "751ddaf7",
   "metadata": {},
   "outputs": [
    {
     "name": "stdout",
     "output_type": "stream",
     "text": [
      "importing Jupyter notebook from read_cdf.ipynb\n"
     ]
    }
   ],
   "source": [
    "\n",
    "import cdflib\n",
    "import numpy as  np\n",
    "import matplotlib.pyplot as plt\n",
    "import pandas as pd\n",
    "import time\n",
    "import datetime\n",
    "import import_ipynb\n",
    "import os\n",
    "import sys\n",
    "from read_cdf import read_cdf\n",
    "from read_cdf import from_epoch_to_time\n",
    "from read_cdf import filtration\n",
    "from read_cdf import plot_save_cdf"
   ]
  },
  {
   "cell_type": "code",
   "execution_count": 2,
   "id": "61645935",
   "metadata": {
    "scrolled": true
   },
   "outputs": [
    {
     "name": "stderr",
     "output_type": "stream",
     "text": [
      "<string>:8: RuntimeWarning: More than 20 figures have been opened. Figures created through the pyplot interface (`matplotlib.pyplot.figure`) are retained until explicitly closed and may consume too much memory. (To control this warning, see the rcParam `figure.max_open_warning`).\n"
     ]
    }
   ],
   "source": [
    "folder = '10'\n",
    "current_path = os.getcwd()\n",
    "path_dir = os.path.join(current_path, \"pics\", folder)\n",
    "try:\n",
    "    os.mkdir(path_dir)\n",
    "except FileExistsError:\n",
    "    uselessshit = -9999\n",
    "    \n",
    "with open(os.path.join('files', f'{folder}', 'dir.txt')) as f:\n",
    "    names = f.readlines()\n",
    "names = [line.rstrip() for line in names]\n",
    "ValErrArr = []\n",
    "for name in (names):\n",
    "    try:\n",
    "        ch1, freq, epoch, time_bool = read_cdf(name, folder)\n",
    "        T, T_sec, ind_midnight = from_epoch_to_time(epoch)\n",
    "        fr_max = 200\n",
    "        freq_filtr, ch1_filtr = filtration(fr_max, ch1, freq, epoch, time_bool, ind_midnight)\n",
    "        plot_save_cdf(epoch, T, T_sec, freq_filtr, ch1_filtr, name, path_dir)\n",
    "    except ValueError:\n",
    "        ValErrArr.append(name)"
   ]
  },
  {
   "cell_type": "markdown",
   "id": "45f860a8",
   "metadata": {},
   "source": [
    "pd.DataFrame(ch1).to_csv('ch1.csv')\n",
    "pd.DataFrame(epoch).to_csv('epoch.csv')\n",
    "pd.DataFrame(freq).to_csv('freq.csv')\n"
   ]
  },
  {
   "cell_type": "markdown",
   "id": "42c94bbe",
   "metadata": {},
   "source": [
    "cdf_file.cdf_info()"
   ]
  },
  {
   "cell_type": "markdown",
   "id": "35704bc0",
   "metadata": {},
   "source": [
    "cdf_file.varget(\"label_freq_vlf\")\n"
   ]
  },
  {
   "cell_type": "markdown",
   "id": "53226e37",
   "metadata": {},
   "source": [
    "cdf_file.varget(\"freq_vlf\")"
   ]
  },
  {
   "cell_type": "markdown",
   "id": "452f3959",
   "metadata": {},
   "source": [
    "cdf_file.attinq('Start Date and Time')"
   ]
  }
 ],
 "metadata": {
  "kernelspec": {
   "display_name": "Python 3 (ipykernel)",
   "language": "python",
   "name": "python3"
  },
  "language_info": {
   "codemirror_mode": {
    "name": "ipython",
    "version": 3
   },
   "file_extension": ".py",
   "mimetype": "text/x-python",
   "name": "python",
   "nbconvert_exporter": "python",
   "pygments_lexer": "ipython3",
   "version": "3.9.7"
  }
 },
 "nbformat": 4,
 "nbformat_minor": 5
}
