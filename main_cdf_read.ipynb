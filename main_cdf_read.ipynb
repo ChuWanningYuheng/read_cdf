{
 "cells": [
  {
   "cell_type": "markdown",
   "id": "017ea2cc",
   "metadata": {},
   "source": [
    "pip install --upgrade spacepy"
   ]
  },
  {
   "cell_type": "markdown",
   "id": "da0fcbca",
   "metadata": {},
   "source": [
    "pip install git+https://github.com/spacepy/spacepy\n"
   ]
  },
  {
   "cell_type": "markdown",
   "id": "a2715b49",
   "metadata": {},
   "source": [
    "pip install cdflib\n"
   ]
  },
  {
   "cell_type": "markdown",
   "id": "1cdf4fe4",
   "metadata": {},
   "source": [
    "pip install import-ipynb\n"
   ]
  },
  {
   "cell_type": "markdown",
   "id": "3e569a9f",
   "metadata": {},
   "source": [
    "pip install ipynb"
   ]
  },
  {
   "cell_type": "markdown",
   "id": "40c7d2ef",
   "metadata": {},
   "source": [
    "os.getcwd()+\"\\\\Module\""
   ]
  },
  {
   "cell_type": "code",
   "execution_count": 1,
   "id": "751ddaf7",
   "metadata": {},
   "outputs": [
    {
     "name": "stdout",
     "output_type": "stream",
     "text": [
      "importing Jupyter notebook from read_cdf.ipynb\n"
     ]
    }
   ],
   "source": [
    "\n",
    "import cdflib\n",
    "import numpy as  np\n",
    "import matplotlib.pyplot as plt\n",
    "import pandas as pd\n",
    "import time\n",
    "import datetime\n",
    "import import_ipynb\n",
    "import os\n",
    "import sys\n",
    "from read_cdf import read_cdf\n",
    "from read_cdf import from_epoch_to_time\n",
    "from read_cdf import filtration\n",
    "from read_cdf import plot_save_cdf\n"
   ]
  },
  {
   "cell_type": "code",
   "execution_count": 7,
   "id": "61645935",
   "metadata": {
    "scrolled": true
   },
   "outputs": [],
   "source": [
    "folder = 'mos'\n",
    "current_path = os.getcwd()\n",
    "path_dir = os.path.join(current_path, \"pics\", folder)\n",
    "fr_max = 100\n",
    "try:\n",
    "    os.mkdir(path_dir)\n",
    "except FileExistsError:\n",
    "    uselessshit = -9999\n",
    "    \n",
    "with open(os.path.join('files', f'{folder}', 'dir.txt')) as f:\n",
    "    names = f.readlines()\n",
    "names = [line.rstrip() for line in names]\n",
    "ValErrArr = []\n",
    "for name in (names):\n",
    "    try:\n",
    "        cdf_file = cdflib.CDF(f'{os.path.join(\"files\", folder, name)}')\n",
    "        ch1, freq, epoch, time_bool = read_cdf(name, folder)\n",
    "        T, T_sec, ind_midnight = from_epoch_to_time(epoch)\n",
    "        freq_filtr, ch1_filtr = filtration(fr_max, ch1, freq, epoch, time_bool, ind_midnight)\n",
    "        plot_save_cdf(epoch, T, T_sec, freq_filtr, ch1_filtr, name, path_dir)\n",
    "    except ValueError:\n",
    "        ValErrArr.append(name)"
   ]
  },
  {
   "cell_type": "code",
   "execution_count": 9,
   "id": "bd38c8d0",
   "metadata": {},
   "outputs": [],
   "source": [
    "import urllib.request"
   ]
  },
  {
   "cell_type": "code",
   "execution_count": 17,
   "id": "83dd0a64",
   "metadata": {},
   "outputs": [
    {
     "data": {
      "text/plain": [
       "('C:\\\\Users\\\\Aleksandra Fedorova\\\\Documents\\\\summer_work\\\\code\\\\cat.html',\n",
       " <http.client.HTTPMessage at 0x1fad40efca0>)"
      ]
     },
     "execution_count": 17,
     "metadata": {},
     "output_type": "execute_result"
    }
   ],
   "source": [
    "url = 'https://ergsc.isee.nagoya-u.ac.jp/data/ergsc/ground/vlf/mos/2020/01/' \n",
    "urllib.request.urlretrieve(url, 'C:\\\\Users\\\\Aleksandra Fedorova\\\\Documents\\\\summer_work\\\\code\\\\cat.html')\n"
   ]
  },
  {
   "cell_type": "markdown",
   "id": "15e50033",
   "metadata": {},
   "source": [
    "f = open ('cat.html' , 'rb')\n",
    "for line in f:\n",
    "     print(line.decode('utf8'))"
   ]
  },
  {
   "cell_type": "code",
   "execution_count": 31,
   "id": "a54d5f7c",
   "metadata": {},
   "outputs": [],
   "source": [
    "fp = urllib.request.urlopen(\"https://ergsc.isee.nagoya-u.ac.jp/data/ergsc/ground/vlf/mos/2020/01/\")\n",
    "mybytes = fp.read()\n",
    "mystr = mybytes.decode(\"utf8\")\n",
    "fp.close()\n"
   ]
  },
  {
   "cell_type": "code",
   "execution_count": 46,
   "id": "aa7945d8",
   "metadata": {},
   "outputs": [],
   "source": [
    "from bs4 import BeautifulSoup\n",
    "soup = BeautifulSoup(mystr, 'html.parser')"
   ]
  },
  {
   "cell_type": "code",
   "execution_count": 53,
   "id": "7d01f4aa",
   "metadata": {},
   "outputs": [
    {
     "data": {
      "text/plain": [
       "'/data/ergsc/ground/vlf/mos/2020/'"
      ]
     },
     "execution_count": 53,
     "metadata": {},
     "output_type": "execute_result"
    }
   ],
   "source": [
    "name_arr = []\n",
    "for link in soup.find_all('a'):\n",
    "    name_arr.append(link.get('href'))\n",
    "name_arr.pop(0)\n"
   ]
  },
  {
   "cell_type": "code",
   "execution_count": 54,
   "id": "06ffd0e2",
   "metadata": {},
   "outputs": [
    {
     "data": {
      "text/plain": [
       "('C:\\\\Users\\\\Aleksandra Fedorova\\\\Documents\\\\summer_work\\\\code\\\\cat.cdf',\n",
       " <http.client.HTTPMessage at 0x1fadcd0a6a0>)"
      ]
     },
     "execution_count": 54,
     "metadata": {},
     "output_type": "execute_result"
    }
   ],
   "source": [
    "url = url + name_arr[0]\n",
    "urllib.request.urlretrieve(url, 'C:\\\\Users\\\\Aleksandra Fedorova\\\\Documents\\\\summer_work\\\\code\\\\cat.cdf')"
   ]
  },
  {
   "cell_type": "code",
   "execution_count": 56,
   "id": "c3afd66e",
   "metadata": {},
   "outputs": [],
   "source": [
    "cdf_file = cdflib.CDF('cat.cdf')\n",
    "cdf_file.cdf_info()\n",
    "freq = np.array(cdf_file.varget(\"freq_vlf\"))"
   ]
  },
  {
   "cell_type": "markdown",
   "id": "45f860a8",
   "metadata": {},
   "source": [
    "pd.DataFrame(ch1).to_csv('ch1.csv')\n",
    "pd.DataFrame(epoch).to_csv('epoch.csv')\n",
    "pd.DataFrame(freq).to_csv('freq.csv')\n"
   ]
  },
  {
   "cell_type": "markdown",
   "id": "42c94bbe",
   "metadata": {},
   "source": [
    "cdf_file.cdf_info()"
   ]
  },
  {
   "cell_type": "markdown",
   "id": "35704bc0",
   "metadata": {},
   "source": [
    "cdf_file.varget(\"label_freq_vlf\")\n"
   ]
  },
  {
   "cell_type": "markdown",
   "id": "53226e37",
   "metadata": {},
   "source": [
    "cdf_file.varget(\"freq_vlf\")"
   ]
  },
  {
   "cell_type": "markdown",
   "id": "452f3959",
   "metadata": {},
   "source": [
    "cdf_file.attinq('Start Date and Time')"
   ]
  }
 ],
 "metadata": {
  "kernelspec": {
   "display_name": "Python 3 (ipykernel)",
   "language": "python",
   "name": "python3"
  },
  "language_info": {
   "codemirror_mode": {
    "name": "ipython",
    "version": 3
   },
   "file_extension": ".py",
   "mimetype": "text/x-python",
   "name": "python",
   "nbconvert_exporter": "python",
   "pygments_lexer": "ipython3",
   "version": "3.9.7"
  }
 },
 "nbformat": 4,
 "nbformat_minor": 5
}
