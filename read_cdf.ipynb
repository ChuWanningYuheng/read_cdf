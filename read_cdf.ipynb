{
 "cells": [
  {
   "cell_type": "code",
   "execution_count": 56,
   "id": "bb9a2217",
   "metadata": {},
   "outputs": [],
   "source": [
    "#read needed params from cdf\n",
    "def read_cdf(name, folder): \n",
    "    import cdflib\n",
    "    import numpy as  np\n",
    "    import os\n",
    "    cdf_file = cdflib.CDF(f'{os.path.join(\"files\", folder, name)}')\n",
    "    cdf_file.cdf_info()\n",
    "    freq = np.array(cdf_file.varget(\"freq_vlf\"))\n",
    "\n",
    "    ch1 = np.array(cdf_file.varget('ch1')) #ampl\n",
    "    ch2 = np.array(cdf_file.varget('ch2')) #ampl\n",
    "\n",
    "    epoch = np.array(cdf_file.varget('epoch_vlf')) #time\n",
    "    time_bool =  epoch != epoch[0]\n",
    "    epoch = epoch[time_bool]\n",
    "    \n",
    "    return ch1, freq, epoch, time_bool "
   ]
  },
  {
   "cell_type": "code",
   "execution_count": 8,
   "id": "a8015dc5",
   "metadata": {},
   "outputs": [],
   "source": [
    "def from_epoch_to_time(epoch):\n",
    "    import time\n",
    "    import datetime\n",
    "    import numpy as  np\n",
    "    T = []\n",
    "    T_sec = []\n",
    "    for i in epoch:\n",
    "        a = datetime.datetime.utcfromtimestamp(i//1e9)\n",
    "        T.append(a.time().strftime('%H:%M'))\n",
    "        T_sec.append(a.hour*3600 + a.minute*60 +a.second )\n",
    "    try:\n",
    "        T_sec_diff = (np.diff(T_sec))\n",
    "        ind_midnight = int(np.where(T_sec_diff<0)[0])\n",
    "        T_sec = T_sec[0:ind_midnight]\n",
    "    except TypeError:\n",
    "        ind_midnight = -99\n",
    "    return T, T_sec, ind_midnight"
   ]
  },
  {
   "cell_type": "code",
   "execution_count": 10,
   "id": "907dda03",
   "metadata": {},
   "outputs": [],
   "source": [
    "def filtration(fr_max, ch1, freq, epoch, time_bool, ind_midnight):\n",
    "    #remove freq more then fr_max and repeated values in time\n",
    "    import numpy as  np\n",
    "\n",
    "\n",
    "    freq_bool = freq<fr_max\n",
    "    freq_filtr = freq[freq_bool]\n",
    "\n",
    "    fr_bool =  np.array([freq_bool])\n",
    "    tm_bool =  np.array([time_bool])\n",
    "\n",
    "    filtr = tm_bool.transpose().dot(fr_bool)\n",
    "\n",
    "    ch1_filtr = ch1[filtr].reshape((len(epoch)), len(freq_filtr))\n",
    "    if ind_midnight!=-99:\n",
    "        ch1_filtr = ch1_filtr[0:ind_midnight][:]\n",
    "    return freq_filtr, ch1_filtr\n",
    "    # ch1_filtr = ch1[time_bool][freq_bool].reshape((len(epoch)), len(freq_filtr)) \n",
    "    # print(ch1_filtr)"
   ]
  },
  {
   "cell_type": "code",
   "execution_count": 13,
   "id": "d1fbbdc1",
   "metadata": {},
   "outputs": [],
   "source": [
    "def plot_save_cdf(epoch, T, T_sec, freq_filtr, ch1_filtr, name, path_dir):\n",
    "#plot contourf\n",
    "    import numpy as  np\n",
    "    import matplotlib.pyplot as plt\n",
    "    import datetime\n",
    "    import os\n",
    "    plt.ioff()\n",
    "    plt.figure(dpi = 100)\n",
    "    plt.title(f'{datetime.datetime.utcfromtimestamp(epoch[0]//1e9).date()}')\n",
    "    cs = plt.contourf(T_sec, freq_filtr, ch1_filtr.transpose())\n",
    "    cbar = plt.colorbar(cs)\n",
    "    plt.xticks(ticks=T_sec[0:(len(T_sec)-1):(len(T_sec)//7)], labels=T[0:(len(T_sec)-1):(len(T_sec)//7)])\n",
    "    plt.xlabel('Time, UTC')\n",
    "    plt.ylabel('Frequency, Hz')\n",
    "    plt.grid(color = 'w')\n",
    "    path = os.path.join(path_dir, f'{name}.jpg')\n",
    "    plt.savefig(path)"
   ]
  }
 ],
 "metadata": {
  "kernelspec": {
   "display_name": "Python 3 (ipykernel)",
   "language": "python",
   "name": "python3"
  },
  "language_info": {
   "codemirror_mode": {
    "name": "ipython",
    "version": 3
   },
   "file_extension": ".py",
   "mimetype": "text/x-python",
   "name": "python",
   "nbconvert_exporter": "python",
   "pygments_lexer": "ipython3",
   "version": "3.9.7"
  }
 },
 "nbformat": 4,
 "nbformat_minor": 5
}
